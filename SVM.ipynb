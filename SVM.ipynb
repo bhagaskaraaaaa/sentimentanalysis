{
 "cells": [
  {
   "cell_type": "markdown",
   "id": "8f757391",
   "metadata": {},
   "source": [
    "# Import Library"
   ]
  },
  {
   "cell_type": "code",
   "execution_count": 1,
   "id": "73031213",
   "metadata": {},
   "outputs": [],
   "source": [
    "import pandas as pd \n",
    "import numpy as np\n",
    "\n",
    "#plot Grafik\n",
    "import matplotlib.pyplot as plt\n",
    "import missingno as msno"
   ]
  },
  {
   "cell_type": "code",
   "execution_count": 2,
   "id": "1292d6fb",
   "metadata": {},
   "outputs": [
    {
     "data": {
      "text/html": [
       "<div>\n",
       "<style scoped>\n",
       "    .dataframe tbody tr th:only-of-type {\n",
       "        vertical-align: middle;\n",
       "    }\n",
       "\n",
       "    .dataframe tbody tr th {\n",
       "        vertical-align: top;\n",
       "    }\n",
       "\n",
       "    .dataframe thead th {\n",
       "        text-align: right;\n",
       "    }\n",
       "</style>\n",
       "<table border=\"1\" class=\"dataframe\">\n",
       "  <thead>\n",
       "    <tr style=\"text-align: right;\">\n",
       "      <th></th>\n",
       "      <th>userName</th>\n",
       "      <th>score</th>\n",
       "      <th>at</th>\n",
       "      <th>content</th>\n",
       "      <th>label</th>\n",
       "      <th>content_tokenize</th>\n",
       "      <th>content_normalized</th>\n",
       "      <th>content_stop_removed</th>\n",
       "      <th>content_Stemmed</th>\n",
       "    </tr>\n",
       "  </thead>\n",
       "  <tbody>\n",
       "    <tr>\n",
       "      <th>0</th>\n",
       "      <td>Robbi Eko</td>\n",
       "      <td>5</td>\n",
       "      <td>2023-03-30 14:37:38</td>\n",
       "      <td>sip terima kasih</td>\n",
       "      <td>positif</td>\n",
       "      <td>['sip', 'terima', 'kasih']</td>\n",
       "      <td>['sip', 'terima', 'kasih']</td>\n",
       "      <td>['sip', 'terima', 'kasih']</td>\n",
       "      <td>['sip', 'terima', 'kasih']</td>\n",
       "    </tr>\n",
       "    <tr>\n",
       "      <th>1</th>\n",
       "      <td>mimi cedar</td>\n",
       "      <td>5</td>\n",
       "      <td>2023-03-30 14:35:59</td>\n",
       "      <td>bagaimana cara transfer sesama gopay gopay say...</td>\n",
       "      <td>positif</td>\n",
       "      <td>['bagaimana', 'cara', 'transfer', 'sesama', 'g...</td>\n",
       "      <td>['bagaimana', 'cara', 'transfer', 'sesama', 'g...</td>\n",
       "      <td>['transfer', 'gopay', 'gopay', 'transfer', 'go...</td>\n",
       "      <td>['transfer', 'gopay', 'gopay', 'transfer', 'go...</td>\n",
       "    </tr>\n",
       "    <tr>\n",
       "      <th>2</th>\n",
       "      <td>Elisabeth Kiswati Ladiyo</td>\n",
       "      <td>5</td>\n",
       "      <td>2023-03-30 14:33:41</td>\n",
       "      <td>amandan cepat sesuai dengan ekspektasi</td>\n",
       "      <td>positif</td>\n",
       "      <td>['amandan', 'cepat', 'sesuai', 'dengan', 'eksp...</td>\n",
       "      <td>['amandan', 'cepat', 'sesuai', 'dengan', 'eksp...</td>\n",
       "      <td>['amandan', 'cepat', 'sesuai', 'ekspektasi']</td>\n",
       "      <td>['amandan', 'cepat', 'sesuai', 'ekspektasi']</td>\n",
       "    </tr>\n",
       "    <tr>\n",
       "      <th>3</th>\n",
       "      <td>Jemmi Meliau ibanez</td>\n",
       "      <td>5</td>\n",
       "      <td>2023-03-30 14:23:25</td>\n",
       "      <td>aplikasi yang cukup membantu</td>\n",
       "      <td>positif</td>\n",
       "      <td>['aplikasi', 'yang', 'cukup', 'membantu']</td>\n",
       "      <td>['aplikasi', 'yang', 'cukup', 'membantu']</td>\n",
       "      <td>['aplikasi', 'membantu']</td>\n",
       "      <td>['aplikasi', 'bantu']</td>\n",
       "    </tr>\n",
       "    <tr>\n",
       "      <th>4</th>\n",
       "      <td>Boedi Arsih</td>\n",
       "      <td>5</td>\n",
       "      <td>2023-03-30 14:19:13</td>\n",
       "      <td>cepet sampainya</td>\n",
       "      <td>positif</td>\n",
       "      <td>['cepet', 'sampainya']</td>\n",
       "      <td>['cepat', 'sampainya']</td>\n",
       "      <td>['cepat', 'sampainya']</td>\n",
       "      <td>['cepat', 'sampai']</td>\n",
       "    </tr>\n",
       "    <tr>\n",
       "      <th>...</th>\n",
       "      <td>...</td>\n",
       "      <td>...</td>\n",
       "      <td>...</td>\n",
       "      <td>...</td>\n",
       "      <td>...</td>\n",
       "      <td>...</td>\n",
       "      <td>...</td>\n",
       "      <td>...</td>\n",
       "      <td>...</td>\n",
       "    </tr>\n",
       "    <tr>\n",
       "      <th>19150</th>\n",
       "      <td>NS P</td>\n",
       "      <td>5</td>\n",
       "      <td>2023-01-08 15:30:18</td>\n",
       "      <td>tolong di peringan app nya suka ngelag</td>\n",
       "      <td>positif</td>\n",
       "      <td>['tolong', 'di', 'peringan', 'app', 'nya', 'su...</td>\n",
       "      <td>['tolong', 'di', 'peringan', 'app', 'nya', 'su...</td>\n",
       "      <td>['tolong', 'peringan', 'app', 'nya', 'suka', '...</td>\n",
       "      <td>['tolong', 'pering', 'app', 'nya', 'suka', 'ng...</td>\n",
       "    </tr>\n",
       "    <tr>\n",
       "      <th>19151</th>\n",
       "      <td>EGA ARDANA</td>\n",
       "      <td>1</td>\n",
       "      <td>2023-01-08 15:29:57</td>\n",
       "      <td>gman nih gw mau upgrade gopay dh puluhan kali ...</td>\n",
       "      <td>negatif</td>\n",
       "      <td>['gman', 'nih', 'gw', 'mau', 'upgrade', 'gopay...</td>\n",
       "      <td>['gman', 'nih', 'gue', 'mau', 'upgrade', 'gopa...</td>\n",
       "      <td>['gman', 'nih', 'gue', 'upgrade', 'gopay', 'de...</td>\n",
       "      <td>['gman', 'nih', 'gue', 'upgrade', 'gopay', 'de...</td>\n",
       "    </tr>\n",
       "    <tr>\n",
       "      <th>19152</th>\n",
       "      <td>Andre Jayaramadhan</td>\n",
       "      <td>1</td>\n",
       "      <td>2023-01-08 15:27:11</td>\n",
       "      <td>perbaiki lagi apk nya mau to up gopay aja nung...</td>\n",
       "      <td>negatif</td>\n",
       "      <td>['perbaiki', 'lagi', 'apk', 'nya', 'mau', 'to'...</td>\n",
       "      <td>['perbaiki', 'lagi', 'apk', 'nya', 'mau', 'tap...</td>\n",
       "      <td>['perbaiki', 'apk', 'nya', 'up', 'gopay', 'men...</td>\n",
       "      <td>['baik', 'apk', 'nya', 'up', 'gopay', 'tunggu'...</td>\n",
       "    </tr>\n",
       "    <tr>\n",
       "      <th>19153</th>\n",
       "      <td>Angga Dian</td>\n",
       "      <td>5</td>\n",
       "      <td>2023-01-08 15:20:19</td>\n",
       "      <td>mantaap</td>\n",
       "      <td>positif</td>\n",
       "      <td>['mantaap']</td>\n",
       "      <td>['mantap']</td>\n",
       "      <td>['mantap']</td>\n",
       "      <td>['mantap']</td>\n",
       "    </tr>\n",
       "    <tr>\n",
       "      <th>19154</th>\n",
       "      <td>Sri Rastini</td>\n",
       "      <td>5</td>\n",
       "      <td>2023-01-08 15:11:35</td>\n",
       "      <td>aplikasi yang baik sangat membantu sayamakasih...</td>\n",
       "      <td>positif</td>\n",
       "      <td>['aplikasi', 'yang', 'baik', 'sangat', 'memban...</td>\n",
       "      <td>['aplikasi', 'yang', 'baik', 'sangat', 'memban...</td>\n",
       "      <td>['aplikasi', 'membantu', 'sayamakasih', 'golek']</td>\n",
       "      <td>['aplikasi', 'bantu', 'sayamakasih', 'golek']</td>\n",
       "    </tr>\n",
       "  </tbody>\n",
       "</table>\n",
       "<p>19155 rows × 9 columns</p>\n",
       "</div>"
      ],
      "text/plain": [
       "                       userName  score                   at  \\\n",
       "0                     Robbi Eko      5  2023-03-30 14:37:38   \n",
       "1                    mimi cedar      5  2023-03-30 14:35:59   \n",
       "2      Elisabeth Kiswati Ladiyo      5  2023-03-30 14:33:41   \n",
       "3           Jemmi Meliau ibanez      5  2023-03-30 14:23:25   \n",
       "4                   Boedi Arsih      5  2023-03-30 14:19:13   \n",
       "...                         ...    ...                  ...   \n",
       "19150                      NS P      5  2023-01-08 15:30:18   \n",
       "19151                EGA ARDANA      1  2023-01-08 15:29:57   \n",
       "19152        Andre Jayaramadhan      1  2023-01-08 15:27:11   \n",
       "19153                Angga Dian      5  2023-01-08 15:20:19   \n",
       "19154               Sri Rastini      5  2023-01-08 15:11:35   \n",
       "\n",
       "                                                 content    label  \\\n",
       "0                                      sip terima kasih   positif   \n",
       "1      bagaimana cara transfer sesama gopay gopay say...  positif   \n",
       "2                 amandan cepat sesuai dengan ekspektasi  positif   \n",
       "3                           aplikasi yang cukup membantu  positif   \n",
       "4                                        cepet sampainya  positif   \n",
       "...                                                  ...      ...   \n",
       "19150             tolong di peringan app nya suka ngelag  positif   \n",
       "19151  gman nih gw mau upgrade gopay dh puluhan kali ...  negatif   \n",
       "19152  perbaiki lagi apk nya mau to up gopay aja nung...  negatif   \n",
       "19153                                            mantaap  positif   \n",
       "19154  aplikasi yang baik sangat membantu sayamakasih...  positif   \n",
       "\n",
       "                                        content_tokenize  \\\n",
       "0                             ['sip', 'terima', 'kasih']   \n",
       "1      ['bagaimana', 'cara', 'transfer', 'sesama', 'g...   \n",
       "2      ['amandan', 'cepat', 'sesuai', 'dengan', 'eksp...   \n",
       "3              ['aplikasi', 'yang', 'cukup', 'membantu']   \n",
       "4                                 ['cepet', 'sampainya']   \n",
       "...                                                  ...   \n",
       "19150  ['tolong', 'di', 'peringan', 'app', 'nya', 'su...   \n",
       "19151  ['gman', 'nih', 'gw', 'mau', 'upgrade', 'gopay...   \n",
       "19152  ['perbaiki', 'lagi', 'apk', 'nya', 'mau', 'to'...   \n",
       "19153                                        ['mantaap']   \n",
       "19154  ['aplikasi', 'yang', 'baik', 'sangat', 'memban...   \n",
       "\n",
       "                                      content_normalized  \\\n",
       "0                             ['sip', 'terima', 'kasih']   \n",
       "1      ['bagaimana', 'cara', 'transfer', 'sesama', 'g...   \n",
       "2      ['amandan', 'cepat', 'sesuai', 'dengan', 'eksp...   \n",
       "3              ['aplikasi', 'yang', 'cukup', 'membantu']   \n",
       "4                                 ['cepat', 'sampainya']   \n",
       "...                                                  ...   \n",
       "19150  ['tolong', 'di', 'peringan', 'app', 'nya', 'su...   \n",
       "19151  ['gman', 'nih', 'gue', 'mau', 'upgrade', 'gopa...   \n",
       "19152  ['perbaiki', 'lagi', 'apk', 'nya', 'mau', 'tap...   \n",
       "19153                                         ['mantap']   \n",
       "19154  ['aplikasi', 'yang', 'baik', 'sangat', 'memban...   \n",
       "\n",
       "                                    content_stop_removed  \\\n",
       "0                             ['sip', 'terima', 'kasih']   \n",
       "1      ['transfer', 'gopay', 'gopay', 'transfer', 'go...   \n",
       "2           ['amandan', 'cepat', 'sesuai', 'ekspektasi']   \n",
       "3                               ['aplikasi', 'membantu']   \n",
       "4                                 ['cepat', 'sampainya']   \n",
       "...                                                  ...   \n",
       "19150  ['tolong', 'peringan', 'app', 'nya', 'suka', '...   \n",
       "19151  ['gman', 'nih', 'gue', 'upgrade', 'gopay', 'de...   \n",
       "19152  ['perbaiki', 'apk', 'nya', 'up', 'gopay', 'men...   \n",
       "19153                                         ['mantap']   \n",
       "19154   ['aplikasi', 'membantu', 'sayamakasih', 'golek']   \n",
       "\n",
       "                                         content_Stemmed  \n",
       "0                             ['sip', 'terima', 'kasih']  \n",
       "1      ['transfer', 'gopay', 'gopay', 'transfer', 'go...  \n",
       "2           ['amandan', 'cepat', 'sesuai', 'ekspektasi']  \n",
       "3                                  ['aplikasi', 'bantu']  \n",
       "4                                    ['cepat', 'sampai']  \n",
       "...                                                  ...  \n",
       "19150  ['tolong', 'pering', 'app', 'nya', 'suka', 'ng...  \n",
       "19151  ['gman', 'nih', 'gue', 'upgrade', 'gopay', 'de...  \n",
       "19152  ['baik', 'apk', 'nya', 'up', 'gopay', 'tunggu'...  \n",
       "19153                                         ['mantap']  \n",
       "19154      ['aplikasi', 'bantu', 'sayamakasih', 'golek']  \n",
       "\n",
       "[19155 rows x 9 columns]"
      ]
     },
     "execution_count": 2,
     "metadata": {},
     "output_type": "execute_result"
    }
   ],
   "source": [
    "df = pd.read_csv(\"data_cleangojek.csv\")\n",
    "\n",
    "df"
   ]
  },
  {
   "cell_type": "code",
   "execution_count": 3,
   "id": "9ed74ab9",
   "metadata": {},
   "outputs": [
    {
     "data": {
      "text/plain": [
       "positif    12914\n",
       "negatif     6241\n",
       "Name: label, dtype: int64"
      ]
     },
     "execution_count": 3,
     "metadata": {},
     "output_type": "execute_result"
    }
   ],
   "source": [
    "df[\"label\"].value_counts()"
   ]
  },
  {
   "cell_type": "markdown",
   "id": "4fc8a78b",
   "metadata": {},
   "source": [
    "## Oversampling"
   ]
  },
  {
   "cell_type": "code",
   "execution_count": 6,
   "id": "6d01b061",
   "metadata": {},
   "outputs": [],
   "source": [
    "from sklearn.utils import resample\n",
    "\n",
    "#create two different dataframe of majority and minority class \n",
    "df_majority = df[(df['label']==\"positif\")] \n",
    "df_minority = df[(df['label']==\"negatif\")] \n",
    "# upsample minority class\n",
    "df_minority_upsampled = resample(df_minority, \n",
    "                                 replace=True,    # sample with replacement\n",
    "                                 n_samples= 12914, # to match majority class\n",
    "                                 random_state=42)  # reproducible results\n",
    "# Combine majority class with upsampled minority class\n",
    "df_upsampled = pd.concat([df_minority_upsampled, df_majority])"
   ]
  },
  {
   "cell_type": "code",
   "execution_count": 7,
   "id": "10a44dd8",
   "metadata": {},
   "outputs": [
    {
     "data": {
      "text/plain": [
       "negatif    12914\n",
       "positif    12914\n",
       "Name: label, dtype: int64"
      ]
     },
     "execution_count": 7,
     "metadata": {},
     "output_type": "execute_result"
    }
   ],
   "source": [
    "df_upsampled[\"label\"].value_counts()"
   ]
  },
  {
   "cell_type": "markdown",
   "id": "93e9c2d2",
   "metadata": {},
   "source": [
    "# Transformation"
   ]
  },
  {
   "cell_type": "code",
   "execution_count": 8,
   "id": "4ee4d482",
   "metadata": {},
   "outputs": [],
   "source": [
    "from sklearn.feature_extraction.text import TfidfVectorizer\n",
    "\n",
    "vectorizer = TfidfVectorizer()\n",
    "tfidf_stemmed = vectorizer.fit_transform(df['content_Stemmed']) "
   ]
  },
  {
   "cell_type": "markdown",
   "id": "09862c79",
   "metadata": {},
   "source": [
    "# Text Mining"
   ]
  },
  {
   "cell_type": "markdown",
   "id": "fcd48b02",
   "metadata": {},
   "source": [
    "## Data Splitting"
   ]
  },
  {
   "cell_type": "code",
   "execution_count": 9,
   "id": "ae59c527",
   "metadata": {},
   "outputs": [],
   "source": [
    "from sklearn.model_selection import train_test_split\n",
    "\n",
    "X_train1, X_test1, Y_train1, Y_test1 = train_test_split(tfidf_stemmed, df['label'], test_size = 0.1, random_state= 42)"
   ]
  },
  {
   "cell_type": "code",
   "execution_count": 10,
   "id": "c161b7ab",
   "metadata": {},
   "outputs": [
    {
     "data": {
      "text/plain": [
       "SVC(kernel='linear')"
      ]
     },
     "execution_count": 10,
     "metadata": {},
     "output_type": "execute_result"
    }
   ],
   "source": [
    "from sklearn import svm\n",
    "    \n",
    "SVM = svm.SVC(kernel='linear')\n",
    "SVM.fit(X_train1,Y_train1) # Linear"
   ]
  },
  {
   "cell_type": "code",
   "execution_count": 11,
   "id": "87a9c449",
   "metadata": {},
   "outputs": [
    {
     "name": "stdout",
     "output_type": "stream",
     "text": [
      "(17239, 11580)\n",
      "(1916, 11580)\n"
     ]
    }
   ],
   "source": [
    "print(X_train1.shape) #untuk mengetahui bentuk x_train (17239 baris dan 11580 column)\n",
    "print(X_test1.shape) #untuk mengetahui bentuk x_test (1916 baris dan 11580 column)"
   ]
  },
  {
   "cell_type": "code",
   "execution_count": 12,
   "id": "a98b0577",
   "metadata": {},
   "outputs": [
    {
     "name": "stdout",
     "output_type": "stream",
     "text": [
      "(17239,)\n",
      "(1916,)\n"
     ]
    }
   ],
   "source": [
    "print(Y_train1.shape)\n",
    "print(Y_test1.shape)"
   ]
  },
  {
   "cell_type": "markdown",
   "id": "f240c683",
   "metadata": {},
   "source": [
    "# Evaluasi"
   ]
  },
  {
   "cell_type": "code",
   "execution_count": 13,
   "id": "b03c4bef",
   "metadata": {},
   "outputs": [
    {
     "name": "stdout",
     "output_type": "stream",
     "text": [
      "[[ 500  121]\n",
      " [  77 1218]]\n"
     ]
    }
   ],
   "source": [
    "from sklearn.metrics import confusion_matrix\n",
    "\n",
    "evaluasi = SVM.predict(X_test1)\n",
    "print(confusion_matrix(Y_test1, evaluasi))"
   ]
  },
  {
   "cell_type": "code",
   "execution_count": 14,
   "id": "922f5ed4",
   "metadata": {},
   "outputs": [
    {
     "name": "stdout",
     "output_type": "stream",
     "text": [
      "0.8966597077244259\n"
     ]
    }
   ],
   "source": [
    "from sklearn.metrics import accuracy_score\n",
    "print(accuracy_score(Y_test1, evaluasi))"
   ]
  },
  {
   "cell_type": "code",
   "execution_count": 15,
   "id": "27aabd80",
   "metadata": {},
   "outputs": [
    {
     "name": "stdout",
     "output_type": "stream",
     "text": [
      "              precision    recall  f1-score   support\n",
      "\n",
      "     negatif       0.87      0.81      0.83       621\n",
      "     positif       0.91      0.94      0.92      1295\n",
      "\n",
      "    accuracy                           0.90      1916\n",
      "   macro avg       0.89      0.87      0.88      1916\n",
      "weighted avg       0.90      0.90      0.90      1916\n",
      "\n"
     ]
    }
   ],
   "source": [
    "from sklearn.metrics import classification_report\n",
    "print(classification_report(Y_test1, evaluasi))"
   ]
  },
  {
   "cell_type": "code",
   "execution_count": 16,
   "id": "72fdd814",
   "metadata": {},
   "outputs": [
    {
     "data": {
      "image/png": "[encoded data removed]",
      "text/plain": [
       "<Figure size 792x360 with 2 Axes>"
      ]
     },
     "metadata": {
      "needs_background": "light"
     },
     "output_type": "display_data"
    }
   ],
   "source": [
    "import matplotlib.pyplot as plt\n",
    "from jcopml.plot import plot_confusion_matrix\n",
    "\n",
    "plot_confusion_matrix(X_train1,Y_train1,X_test1,Y_test1,SVM)"
   ]
  },
  {
   "cell_type": "code",
   "execution_count": 17,
   "id": "ad23ab8b",
   "metadata": {},
   "outputs": [
    {
     "data": {
      "image/png": "[encoded data removed]",
      "text/plain": [
       "<Figure size 432x288 with 2 Axes>"
      ]
     },
     "metadata": {
      "needs_background": "light"
     },
     "output_type": "display_data"
    }
   ],
   "source": [
    "from sklearn import metrics\n",
    "\n",
    "confusion_matrix = metrics.confusion_matrix(Y_test1, evaluasi)\n",
    "cm_display = metrics.ConfusionMatrixDisplay(confusion_matrix = confusion_matrix)\n",
    "\n",
    "cm_display.plot()\n",
    "plt.show()"
   ]
  }
 ],
 "metadata": {
  "kernelspec": {
   "display_name": "Python 3 (ipykernel)",
   "language": "python",
   "name": "python3"
  },
  "language_info": {
   "codemirror_mode": {
    "name": "ipython",
    "version": 3
   },
   "file_extension": ".py",
   "mimetype": "text/x-python",
   "name": "python",
   "nbconvert_exporter": "python",
   "pygments_lexer": "ipython3",
   "version": "3.9.12"
  }
 },
 "nbformat": 4,
 "nbformat_minor": 5
}
